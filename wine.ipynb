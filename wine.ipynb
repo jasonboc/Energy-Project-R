{
 "cells": [
  {
   "cell_type": "markdown",
   "metadata": {},
   "source": [
    "# Bus241 datasets: Wine quality data example\n",
    "* Source:  ML repository\n",
    "* Wine quality by experts (0 - 10)\n",
    "* Predictors:  Wine chemical composition\n",
    "* This can be done as either classification, or regression\n"
   ]
  },
  {
   "cell_type": "markdown",
   "metadata": {},
   "source": [
    "## Load tools"
   ]
  },
  {
   "cell_type": "code",
   "execution_count": 7,
   "metadata": {},
   "outputs": [],
   "source": [
    "%matplotlib inline\n",
    "# Import lots of tools\n",
    "import pandas as pd\n",
    "import numpy as np\n",
    "import matplotlib as mpl\n",
    "import matplotlib.pyplot as plt\n",
    "from sklearn.model_selection import train_test_split"
   ]
  },
  {
   "cell_type": "markdown",
   "metadata": {},
   "source": [
    "## Load and process data"
   ]
  },
  {
   "cell_type": "code",
   "execution_count": 4,
   "metadata": {},
   "outputs": [
    {
     "name": "stdout",
     "output_type": "stream",
     "text": [
      "(1599, 11)\n"
     ]
    },
    {
     "data": {
      "text/plain": [
       "['fixedAcidity',\n",
       " 'volatileAcidity',\n",
       " 'citricAcid',\n",
       " 'residualSugar',\n",
       " 'chlorides',\n",
       " 'freeSulfurDioxide',\n",
       " 'totalSulfurDioxide',\n",
       " 'density',\n",
       " 'pH',\n",
       " 'sulphates',\n",
       " 'alcohol',\n",
       " 'quality']"
      ]
     },
     "execution_count": 4,
     "metadata": {},
     "output_type": "execute_result"
    }
   ],
   "source": [
    "# load default data set\n",
    "wineall = pd.read_csv(\"winequality-red.csv\")\n",
    "X = wineall.values[:,0:11].copy()\n",
    "y = wineall.quality.values\n",
    "print(X.shape)\n",
    "list(wineall)"
   ]
  },
  {
   "cell_type": "markdown",
   "metadata": {},
   "source": [
    "### Set up a binary classifier"
   ]
  },
  {
   "cell_type": "code",
   "execution_count": 16,
   "metadata": {},
   "outputs": [
    {
     "name": "stdout",
     "output_type": "stream",
     "text": [
      "0.5347091932457786\n"
     ]
    }
   ],
   "source": [
    "ybin = y > 5\n",
    "print(np.mean(ybin))\n",
    "wineall['goodqual'] = ybin"
   ]
  },
  {
   "cell_type": "code",
   "execution_count": 17,
   "metadata": {},
   "outputs": [
    {
     "data": {
      "text/html": [
       "<div>\n",
       "<style scoped>\n",
       "    .dataframe tbody tr th:only-of-type {\n",
       "        vertical-align: middle;\n",
       "    }\n",
       "\n",
       "    .dataframe tbody tr th {\n",
       "        vertical-align: top;\n",
       "    }\n",
       "\n",
       "    .dataframe thead th {\n",
       "        text-align: right;\n",
       "    }\n",
       "</style>\n",
       "<table border=\"1\" class=\"dataframe\">\n",
       "  <thead>\n",
       "    <tr style=\"text-align: right;\">\n",
       "      <th></th>\n",
       "      <th>fixedAcidity</th>\n",
       "      <th>volatileAcidity</th>\n",
       "      <th>citricAcid</th>\n",
       "      <th>residualSugar</th>\n",
       "      <th>chlorides</th>\n",
       "      <th>freeSulfurDioxide</th>\n",
       "      <th>totalSulfurDioxide</th>\n",
       "      <th>density</th>\n",
       "      <th>pH</th>\n",
       "      <th>sulphates</th>\n",
       "      <th>alcohol</th>\n",
       "      <th>quality</th>\n",
       "      <th>goodqual</th>\n",
       "    </tr>\n",
       "  </thead>\n",
       "  <tbody>\n",
       "    <tr>\n",
       "      <th>0</th>\n",
       "      <td>7.4</td>\n",
       "      <td>0.70</td>\n",
       "      <td>0.00</td>\n",
       "      <td>1.9</td>\n",
       "      <td>0.076</td>\n",
       "      <td>11.0</td>\n",
       "      <td>34.0</td>\n",
       "      <td>0.9978</td>\n",
       "      <td>3.51</td>\n",
       "      <td>0.56</td>\n",
       "      <td>9.4</td>\n",
       "      <td>5</td>\n",
       "      <td>False</td>\n",
       "    </tr>\n",
       "    <tr>\n",
       "      <th>1</th>\n",
       "      <td>7.8</td>\n",
       "      <td>0.88</td>\n",
       "      <td>0.00</td>\n",
       "      <td>2.6</td>\n",
       "      <td>0.098</td>\n",
       "      <td>25.0</td>\n",
       "      <td>67.0</td>\n",
       "      <td>0.9968</td>\n",
       "      <td>3.20</td>\n",
       "      <td>0.68</td>\n",
       "      <td>9.8</td>\n",
       "      <td>5</td>\n",
       "      <td>False</td>\n",
       "    </tr>\n",
       "    <tr>\n",
       "      <th>2</th>\n",
       "      <td>7.8</td>\n",
       "      <td>0.76</td>\n",
       "      <td>0.04</td>\n",
       "      <td>2.3</td>\n",
       "      <td>0.092</td>\n",
       "      <td>15.0</td>\n",
       "      <td>54.0</td>\n",
       "      <td>0.9970</td>\n",
       "      <td>3.26</td>\n",
       "      <td>0.65</td>\n",
       "      <td>9.8</td>\n",
       "      <td>5</td>\n",
       "      <td>False</td>\n",
       "    </tr>\n",
       "    <tr>\n",
       "      <th>3</th>\n",
       "      <td>11.2</td>\n",
       "      <td>0.28</td>\n",
       "      <td>0.56</td>\n",
       "      <td>1.9</td>\n",
       "      <td>0.075</td>\n",
       "      <td>17.0</td>\n",
       "      <td>60.0</td>\n",
       "      <td>0.9980</td>\n",
       "      <td>3.16</td>\n",
       "      <td>0.58</td>\n",
       "      <td>9.8</td>\n",
       "      <td>6</td>\n",
       "      <td>True</td>\n",
       "    </tr>\n",
       "    <tr>\n",
       "      <th>4</th>\n",
       "      <td>7.4</td>\n",
       "      <td>0.70</td>\n",
       "      <td>0.00</td>\n",
       "      <td>1.9</td>\n",
       "      <td>0.076</td>\n",
       "      <td>11.0</td>\n",
       "      <td>34.0</td>\n",
       "      <td>0.9978</td>\n",
       "      <td>3.51</td>\n",
       "      <td>0.56</td>\n",
       "      <td>9.4</td>\n",
       "      <td>5</td>\n",
       "      <td>False</td>\n",
       "    </tr>\n",
       "  </tbody>\n",
       "</table>\n",
       "</div>"
      ],
      "text/plain": [
       "   fixedAcidity  volatileAcidity  citricAcid  residualSugar  chlorides  \\\n",
       "0           7.4             0.70        0.00            1.9      0.076   \n",
       "1           7.8             0.88        0.00            2.6      0.098   \n",
       "2           7.8             0.76        0.04            2.3      0.092   \n",
       "3          11.2             0.28        0.56            1.9      0.075   \n",
       "4           7.4             0.70        0.00            1.9      0.076   \n",
       "\n",
       "   freeSulfurDioxide  totalSulfurDioxide  density    pH  sulphates  alcohol  \\\n",
       "0               11.0                34.0   0.9978  3.51       0.56      9.4   \n",
       "1               25.0                67.0   0.9968  3.20       0.68      9.8   \n",
       "2               15.0                54.0   0.9970  3.26       0.65      9.8   \n",
       "3               17.0                60.0   0.9980  3.16       0.58      9.8   \n",
       "4               11.0                34.0   0.9978  3.51       0.56      9.4   \n",
       "\n",
       "   quality  goodqual  \n",
       "0        5     False  \n",
       "1        5     False  \n",
       "2        5     False  \n",
       "3        6      True  \n",
       "4        5     False  "
      ]
     },
     "execution_count": 17,
     "metadata": {},
     "output_type": "execute_result"
    }
   ],
   "source": [
    "# display dataframe in nice table just to see\n",
    "wineall.head()"
   ]
  },
  {
   "cell_type": "markdown",
   "metadata": {},
   "source": [
    "###  Naive Bayes example"
   ]
  },
  {
   "cell_type": "code",
   "execution_count": 11,
   "metadata": {},
   "outputs": [
    {
     "name": "stdout",
     "output_type": "stream",
     "text": [
      "0.7443315089913995\n",
      "0.703125\n"
     ]
    }
   ],
   "source": [
    "# Try a naive Bayes classifier\n",
    "from sklearn.naive_bayes import GaussianNB\n",
    "model =  GaussianNB()\n",
    "\n",
    "X_train, X_test, y_train, y_test = train_test_split(X,ybin,test_size=0.2)\n",
    "\n",
    "model.fit(X_train,y_train)\n",
    "trainScore = model.score(X_train,y_train)\n",
    "testScore = model.score(X_test,y_test)\n",
    "print(trainScore)\n",
    "print(testScore)"
   ]
  },
  {
   "cell_type": "markdown",
   "metadata": {},
   "source": [
    "### Quick demo of scikitLearn automated simulation"
   ]
  },
  {
   "cell_type": "code",
   "execution_count": 19,
   "metadata": {},
   "outputs": [
    {
     "name": "stdout",
     "output_type": "stream",
     "text": [
      "0.7271000000000001\n",
      "0.017083325203250097\n"
     ]
    }
   ],
   "source": [
    "# cross validation machinery\n",
    "# These are some new scikit learn toys that will make your life easier (see below)\n",
    "from sklearn.model_selection import cross_val_score\n",
    "from sklearn.model_selection import ShuffleSplit\n",
    "\n",
    "model =  GaussianNB()\n",
    "model.fit(X_train,y_train)\n",
    "# Set up train/test simulation and store in cvf\n",
    "cvf = ShuffleSplit(n_splits=25, test_size=0.25)\n",
    "# Simuate scores:  returns vector, note cv argument\n",
    "scores = cross_val_score(model, X, ybin, cv=cvf)\n",
    "print(np.mean(scores))\n",
    "print(np.std(scores))"
   ]
  },
  {
   "cell_type": "markdown",
   "metadata": {},
   "source": [
    "### Linear Discrimant"
   ]
  },
  {
   "cell_type": "code",
   "execution_count": 20,
   "metadata": {},
   "outputs": [
    {
     "name": "stdout",
     "output_type": "stream",
     "text": [
      "0.7454999999999999\n",
      "0.019339079605813707\n"
     ]
    }
   ],
   "source": [
    "# Let's try a linear separation\n",
    "from sklearn.discriminant_analysis import LinearDiscriminantAnalysis\n",
    "model = LinearDiscriminantAnalysis()\n",
    "# Set up train/test simulation and store in cvf\n",
    "cvf = ShuffleSplit(n_splits=25, test_size=0.25)\n",
    "# Simuate scores:  returns vector, note cv argument\n",
    "scores = cross_val_score(model, X, ybin, cv=cvf)\n",
    "print(np.mean(scores))\n",
    "print(np.std(scores))"
   ]
  },
  {
   "cell_type": "markdown",
   "metadata": {},
   "source": [
    "### Linear regression\n",
    "* This problem can be thought of as classification, or\n",
    "* Regression"
   ]
  },
  {
   "cell_type": "code",
   "execution_count": 21,
   "metadata": {},
   "outputs": [
    {
     "name": "stdout",
     "output_type": "stream",
     "text": [
      "0.3629352987780537\n",
      "0.34212545661296107\n"
     ]
    }
   ],
   "source": [
    "# Linear regression\n",
    "# Find R-squared by hand\n",
    "from sklearn.linear_model import LinearRegression\n",
    "model = LinearRegression()\n",
    "nmc = 50\n",
    "r2Train = np.zeros(nmc)\n",
    "r2Test  = np.zeros(nmc)\n",
    "for i in range(nmc):\n",
    "    X_train, X_test, y_train, y_test = train_test_split(X,y,test_size=0.2)\n",
    "    yGuess = np.mean(y_train)\n",
    "    model.fit(X_train,y_train)\n",
    "    yhatTrain = model.predict(X_train)\n",
    "    yhatTest  = model.predict(X_test)\n",
    "    mseTrain = np.mean( (y_train-yhatTrain)**2)\n",
    "    mseTest  = np.mean( (y_test -yhatTest) **2)\n",
    "    mseGuessTrain = np.mean( (y_train - yGuess)**2)\n",
    "    mseGuessTest  = np.mean( (y_test  - yGuess)**2)\n",
    "    r2Train[i] = 1. - mseTrain/mseGuessTrain\n",
    "    r2Test[i]  = 1. - mseTest/mseGuessTest\n",
    "print(np.mean(r2Train))\n",
    "print(np.mean(r2Test))"
   ]
  },
  {
   "cell_type": "code",
   "execution_count": null,
   "metadata": {
    "collapsed": true
   },
   "outputs": [],
   "source": []
  }
 ],
 "metadata": {
  "kernelspec": {
   "display_name": "Python 3",
   "language": "python",
   "name": "python3"
  },
  "language_info": {
   "codemirror_mode": {
    "name": "ipython",
    "version": 3
   },
   "file_extension": ".py",
   "mimetype": "text/x-python",
   "name": "python",
   "nbconvert_exporter": "python",
   "pygments_lexer": "ipython3",
   "version": "3.6.5"
  }
 },
 "nbformat": 4,
 "nbformat_minor": 2
}
