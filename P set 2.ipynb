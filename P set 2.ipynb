{
 "cells": [
  {
   "cell_type": "code",
   "execution_count": 1,
   "metadata": {},
   "outputs": [],
   "source": [
    "import numpy as np"
   ]
  },
  {
   "cell_type": "markdown",
   "metadata": {},
   "source": [
    "#### Q1 Generate a sample with 100 data points using covidData. What is the mean for the death rate overall, for smokers, and for nonsmokers."
   ]
  },
  {
   "cell_type": "code",
   "execution_count": 2,
   "metadata": {},
   "outputs": [
    {
     "name": "stdout",
     "output_type": "stream",
     "text": [
      "0.54\n",
      "0.48936170212765956\n",
      "0.5849056603773585\n"
     ]
    }
   ],
   "source": [
    "np.random.seed(11)\n",
    "    # age as a uniform value [0,1]\n",
    "Nsamp=100\n",
    "age = np.random.uniform(low=0.0,high=1.0,size=Nsamp)\n",
    "    # Smoke?\n",
    "smoke = np.random.randint(low=0,high=2,size=Nsamp)\n",
    "    # number of smokers and nonsmokers\n",
    "nSmoke = np.sum(smoke)\n",
    "nnSmoke = Nsamp - nSmoke\n",
    "death = np.zeros(Nsamp,dtype=int)\n",
    "    # Death prob = 0.5 if you don't smoke\n",
    "death[smoke==0] = (np.random.uniform(size=nnSmoke)<0.5)\n",
    "# If you do smoke, then it depends quadratically on age\n",
    "death[smoke==1] = (np.random.uniform(size=(nSmoke))<3./2.*age[smoke==1]**2)\n",
    "    # stack predictor variables in matrix\n",
    "xPredict = np.stack((age,smoke),axis=1)\n",
    "\n",
    "#average death rate overall\n",
    "print(death.mean())\n",
    "#average death rate for nonsmokers\n",
    "print(death[smoke==0].mean())\n",
    "#average death rate for smokers\n",
    "print(death[smoke==1].mean())"
   ]
  },
  {
   "cell_type": "markdown",
   "metadata": {},
   "source": [
    "#### Q2. First set up code to evaluate a nearest neighbor classification system. Plot the training and test set mean score (accuracy) from a 250 length monte-carlo simulation. Set the test set at 0.25 of the total sample. Do this for various neighbor sizes from 1 to 30. What looks like the optimal neighbor size for test data?"
   ]
  },
  {
   "cell_type": "code",
   "execution_count": 3,
   "metadata": {},
   "outputs": [
    {
     "data": {
      "text/plain": [
       "<matplotlib.legend.Legend at 0x1ee1359ba48>"
      ]
     },
     "execution_count": 3,
     "metadata": {},
     "output_type": "execute_result"
    },
    {
     "data": {
      "image/png": "[encoded data removed]",
      "text/plain": [
       "<Figure size 432x288 with 1 Axes>"
      ]
     },
     "metadata": {
      "needs_background": "light"
     },
     "output_type": "display_data"
    }
   ],
   "source": [
    "from sklearn.neighbors import KNeighborsClassifier\n",
    "from sklearn.model_selection import train_test_split\n",
    "import matplotlib.pyplot as plt\n",
    "nmc=251\n",
    "testFrac=0.25\n",
    "modelObj=KNeighborsClassifier\n",
    "neighbors_settings = range(1, 31)\n",
    "trainScore = np.zeros([30,nmc])\n",
    "testScore  = np.zeros([30,nmc])\n",
    "\n",
    "for n_neighbors in neighbors_settings:\n",
    "    for i in range(nmc):\n",
    "        X_train, X_test, y_train, y_test = train_test_split(xPredict,death,test_size=testFrac)\n",
    "    # build the model\n",
    "        clf = modelObj(n_neighbors=n_neighbors)\n",
    "        clf.fit(X_train,y_train)\n",
    "        trainScore[n_neighbors-1,i] = clf.score(X_train,y_train)\n",
    "        testScore[n_neighbors-1,i]  = clf.score(X_test,y_test)\n",
    "\n",
    "trainMean=trainScore.mean(axis=1)\n",
    "testMean=testScore.mean(axis=1)\n",
    "plt.plot(neighbors_settings, trainMean, label=\"training accuracy\")\n",
    "plt.plot(neighbors_settings, testMean, label=\"test accuracy\")\n",
    "plt.ylabel(\"Accuracy\")\n",
    "plt.xlabel(\"n_neighbors\")\n",
    "plt.legend()"
   ]
  },
  {
   "cell_type": "markdown",
   "metadata": {},
   "source": []
  },
  {
   "cell_type": "code",
   "execution_count": 4,
   "metadata": {},
   "outputs": [
    {
     "name": "stdout",
     "output_type": "stream",
     "text": [
      "0.710597609561753\n",
      "The optimal neighbor size for test data is 5\n"
     ]
    }
   ],
   "source": [
    "tmax=np.max(testMean)\n",
    "print(tmax)\n",
    "result=np.argmax(testMean)+1\n",
    "print(\"The optimal neighbor size for test data is \"+str(result))"
   ]
  },
  {
   "cell_type": "markdown",
   "metadata": {},
   "source": [
    "#### Q3 What is the score for the training sample with one neighbor?"
   ]
  },
  {
   "cell_type": "code",
   "execution_count": 5,
   "metadata": {},
   "outputs": [
    {
     "name": "stdout",
     "output_type": "stream",
     "text": [
      "The score for the training sample with one neighbor is 1.0\n"
     ]
    }
   ],
   "source": [
    "t1=trainMean[0]\n",
    "print(\"The score for the training sample with one neighbor is \"+ str(t1))"
   ]
  },
  {
   "cell_type": "markdown",
   "metadata": {},
   "source": [
    "#### Q4 Find the mean training and test classification accuracy for a logistic regression on the same data. You do not know how to do this in Scikit learn, but it is easy. The function logisticRegression() sets up the logistic regression in the same way as the nearest neighbor classification. Use this with the default parameters. Run this for the same monte-carlo specification as before (no need to sweep through parameters). Report the mean for training and test set scores."
   ]
  },
  {
   "cell_type": "code",
   "execution_count": 8,
   "metadata": {},
   "outputs": [
    {
     "name": "stdout",
     "output_type": "stream",
     "text": [
      "The mean for training set scores is 0.6867463479415671\n",
      "The mean for test set scores is 0.6621513944223107\n"
     ]
    }
   ],
   "source": [
    "from sklearn.linear_model import LogisticRegression\n",
    "modelObj=LogisticRegression()\n",
    "trainScore = np.zeros(nmc)\n",
    "testScore  = np.zeros(nmc)\n",
    "for i in range(nmc):\n",
    "    X_train, X_test, y_train, y_test = train_test_split(xPredict,death,test_size=testFrac)\n",
    "    # build the model\n",
    "    modelObj.fit(X_train,y_train)\n",
    "    trainScore[i] = modelObj.score(X_train,y_train)\n",
    "    testScore[i]  = modelObj.score(X_test,y_test)\n",
    "\n",
    "trainMean=trainScore.mean()\n",
    "testMean=testScore.mean()\n",
    "print(\"The mean for training set scores is \"+str(trainMean))\n",
    "print(\"The mean for test set scores is \"+str(testMean))"
   ]
  },
  {
   "cell_type": "code",
   "execution_count": null,
   "metadata": {},
   "outputs": [],
   "source": []
  }
 ],
 "metadata": {
  "kernelspec": {
   "display_name": "Python 3",
   "language": "python",
   "name": "python3"
  },
  "language_info": {
   "codemirror_mode": {
    "name": "ipython",
    "version": 3
   },
   "file_extension": ".py",
   "mimetype": "text/x-python",
   "name": "python",
   "nbconvert_exporter": "python",
   "pygments_lexer": "ipython3",
   "version": "3.7.6"
  }
 },
 "nbformat": 4,
 "nbformat_minor": 4
}
