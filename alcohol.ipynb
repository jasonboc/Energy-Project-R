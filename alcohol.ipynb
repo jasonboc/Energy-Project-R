{
 "cells": [
  {
   "cell_type": "markdown",
   "metadata": {},
   "source": [
    "# Alcoholism data set (source = Wooldridge, Introductory Econometrics)"
   ]
  },
  {
   "cell_type": "code",
   "execution_count": 35,
   "metadata": {},
   "outputs": [],
   "source": [
    "import pandas as pd \n",
    "import numpy as np\n",
    "from sklearn.model_selection import train_test_split\n",
    "from sklearn.tree import DecisionTreeClassifier\n",
    "import matplotlib as mpl\n",
    "import matplotlib.pyplot as plt\n",
    "%matplotlib inline\n",
    "# import mglearn\n",
    "from sklearn import tree\n",
    "from sklearn.linear_model import LogisticRegression\n",
    "from sklearn.preprocessing import StandardScaler\n",
    "from sklearn.neighbors import KNeighborsClassifier\n",
    "from sklearn.ensemble import RandomForestClassifier"
   ]
  },
  {
   "cell_type": "code",
   "execution_count": 4,
   "metadata": {},
   "outputs": [
    {
     "data": {
      "text/html": [
       "<div>\n",
       "<style scoped>\n",
       "    .dataframe tbody tr th:only-of-type {\n",
       "        vertical-align: middle;\n",
       "    }\n",
       "\n",
       "    .dataframe tbody tr th {\n",
       "        vertical-align: top;\n",
       "    }\n",
       "\n",
       "    .dataframe thead th {\n",
       "        text-align: right;\n",
       "    }\n",
       "</style>\n",
       "<table border=\"1\" class=\"dataframe\">\n",
       "  <thead>\n",
       "    <tr style=\"text-align: right;\">\n",
       "      <th></th>\n",
       "      <th>id</th>\n",
       "      <th>abuse</th>\n",
       "      <th>status</th>\n",
       "      <th>unemrate</th>\n",
       "      <th>age</th>\n",
       "      <th>educ</th>\n",
       "      <th>married</th>\n",
       "      <th>famsize</th>\n",
       "      <th>white</th>\n",
       "      <th>exhealth</th>\n",
       "      <th>...</th>\n",
       "      <th>qrt2</th>\n",
       "      <th>qrt3</th>\n",
       "      <th>beertax</th>\n",
       "      <th>cigtax</th>\n",
       "      <th>ethanol</th>\n",
       "      <th>mothalc</th>\n",
       "      <th>fathalc</th>\n",
       "      <th>livealc</th>\n",
       "      <th>inwf</th>\n",
       "      <th>employ</th>\n",
       "    </tr>\n",
       "  </thead>\n",
       "  <tbody>\n",
       "    <tr>\n",
       "      <th>0</th>\n",
       "      <td>1</td>\n",
       "      <td>1</td>\n",
       "      <td>1</td>\n",
       "      <td>4.0</td>\n",
       "      <td>50</td>\n",
       "      <td>4</td>\n",
       "      <td>1</td>\n",
       "      <td>1</td>\n",
       "      <td>1</td>\n",
       "      <td>0</td>\n",
       "      <td>...</td>\n",
       "      <td>0</td>\n",
       "      <td>0</td>\n",
       "      <td>0.334</td>\n",
       "      <td>38.0</td>\n",
       "      <td>2.03946</td>\n",
       "      <td>0</td>\n",
       "      <td>0</td>\n",
       "      <td>0</td>\n",
       "      <td>0</td>\n",
       "      <td>0</td>\n",
       "    </tr>\n",
       "    <tr>\n",
       "      <th>1</th>\n",
       "      <td>2</td>\n",
       "      <td>0</td>\n",
       "      <td>3</td>\n",
       "      <td>4.0</td>\n",
       "      <td>37</td>\n",
       "      <td>12</td>\n",
       "      <td>1</td>\n",
       "      <td>5</td>\n",
       "      <td>1</td>\n",
       "      <td>0</td>\n",
       "      <td>...</td>\n",
       "      <td>0</td>\n",
       "      <td>0</td>\n",
       "      <td>0.334</td>\n",
       "      <td>38.0</td>\n",
       "      <td>2.03946</td>\n",
       "      <td>0</td>\n",
       "      <td>0</td>\n",
       "      <td>0</td>\n",
       "      <td>1</td>\n",
       "      <td>1</td>\n",
       "    </tr>\n",
       "    <tr>\n",
       "      <th>2</th>\n",
       "      <td>3</td>\n",
       "      <td>0</td>\n",
       "      <td>3</td>\n",
       "      <td>4.0</td>\n",
       "      <td>53</td>\n",
       "      <td>9</td>\n",
       "      <td>1</td>\n",
       "      <td>3</td>\n",
       "      <td>1</td>\n",
       "      <td>1</td>\n",
       "      <td>...</td>\n",
       "      <td>0</td>\n",
       "      <td>0</td>\n",
       "      <td>0.334</td>\n",
       "      <td>38.0</td>\n",
       "      <td>2.03946</td>\n",
       "      <td>0</td>\n",
       "      <td>0</td>\n",
       "      <td>0</td>\n",
       "      <td>1</td>\n",
       "      <td>1</td>\n",
       "    </tr>\n",
       "    <tr>\n",
       "      <th>3</th>\n",
       "      <td>4</td>\n",
       "      <td>0</td>\n",
       "      <td>3</td>\n",
       "      <td>3.3</td>\n",
       "      <td>59</td>\n",
       "      <td>11</td>\n",
       "      <td>1</td>\n",
       "      <td>1</td>\n",
       "      <td>1</td>\n",
       "      <td>1</td>\n",
       "      <td>...</td>\n",
       "      <td>0</td>\n",
       "      <td>0</td>\n",
       "      <td>0.240</td>\n",
       "      <td>26.0</td>\n",
       "      <td>2.44998</td>\n",
       "      <td>0</td>\n",
       "      <td>0</td>\n",
       "      <td>0</td>\n",
       "      <td>1</td>\n",
       "      <td>1</td>\n",
       "    </tr>\n",
       "    <tr>\n",
       "      <th>4</th>\n",
       "      <td>5</td>\n",
       "      <td>0</td>\n",
       "      <td>3</td>\n",
       "      <td>3.3</td>\n",
       "      <td>43</td>\n",
       "      <td>10</td>\n",
       "      <td>1</td>\n",
       "      <td>1</td>\n",
       "      <td>1</td>\n",
       "      <td>1</td>\n",
       "      <td>...</td>\n",
       "      <td>0</td>\n",
       "      <td>0</td>\n",
       "      <td>0.240</td>\n",
       "      <td>26.0</td>\n",
       "      <td>2.44998</td>\n",
       "      <td>0</td>\n",
       "      <td>1</td>\n",
       "      <td>1</td>\n",
       "      <td>1</td>\n",
       "      <td>1</td>\n",
       "    </tr>\n",
       "  </tbody>\n",
       "</table>\n",
       "<p>5 rows × 29 columns</p>\n",
       "</div>"
      ],
      "text/plain": [
       "   id  abuse  status  unemrate  age  educ  married  famsize  white  exhealth  \\\n",
       "0   1      1       1       4.0   50     4        1        1      1         0   \n",
       "1   2      0       3       4.0   37    12        1        5      1         0   \n",
       "2   3      0       3       4.0   53     9        1        3      1         1   \n",
       "3   4      0       3       3.3   59    11        1        1      1         1   \n",
       "4   5      0       3       3.3   43    10        1        1      1         1   \n",
       "\n",
       "   ...  qrt2  qrt3  beertax  cigtax  ethanol  mothalc  fathalc  livealc  inwf  \\\n",
       "0  ...     0     0    0.334    38.0  2.03946        0        0        0     0   \n",
       "1  ...     0     0    0.334    38.0  2.03946        0        0        0     1   \n",
       "2  ...     0     0    0.334    38.0  2.03946        0        0        0     1   \n",
       "3  ...     0     0    0.240    26.0  2.44998        0        0        0     1   \n",
       "4  ...     0     0    0.240    26.0  2.44998        0        1        1     1   \n",
       "\n",
       "   employ  \n",
       "0       0  \n",
       "1       1  \n",
       "2       1  \n",
       "3       1  \n",
       "4       1  \n",
       "\n",
       "[5 rows x 29 columns]"
      ]
     },
     "execution_count": 4,
     "metadata": {},
     "output_type": "execute_result"
    }
   ],
   "source": [
    "# Load data set\n",
    "alcohol = pd.read_csv(\"alcohol.txt\")\n",
    "# Remove squaredal terms - these terms i\n",
    "alcohol.drop(['agesq','beertaxsq','cigtaxsq','ethanolsq','educsq'],axis=1,inplace=True)\n",
    "alcohol.head()"
   ]
  },
  {
   "cell_type": "code",
   "execution_count": 5,
   "metadata": {},
   "outputs": [
    {
     "data": {
      "text/plain": [
       "(array([8848.,    0.,    0.,    0.,    0.,    0.,    0.,    0.,    0.,\n",
       "         974.]),\n",
       " array([0. , 0.1, 0.2, 0.3, 0.4, 0.5, 0.6, 0.7, 0.8, 0.9, 1. ]),\n",
       " <a list of 10 Patch objects>)"
      ]
     },
     "execution_count": 5,
     "metadata": {},
     "output_type": "execute_result"
    },
    {
     "data": {
      "image/png": "[encoded data removed]",
      "text/plain": [
       "<Figure size 432x288 with 1 Axes>"
      ]
     },
     "metadata": {
      "needs_background": "light"
     },
     "output_type": "display_data"
    }
   ],
   "source": [
    "# this plot shows how unbalanced the data set is\n",
    "plt.hist(alcohol.abuse)"
   ]
  },
  {
   "cell_type": "markdown",
   "metadata": {},
   "source": [
    "# Some simple rebalancing"
   ]
  },
  {
   "cell_type": "code",
   "execution_count": 6,
   "metadata": {},
   "outputs": [
    {
     "name": "stdout",
     "output_type": "stream",
     "text": [
      "8848\n",
      "974\n"
     ]
    }
   ],
   "source": [
    "# generate special classes for types\n",
    "count0, count1 = alcohol.abuse.value_counts()\n",
    "aclass0 = alcohol[alcohol.abuse==0]\n",
    "aclass1 = alcohol[alcohol.abuse==1]\n",
    "print(count0)\n",
    "print(count1)"
   ]
  },
  {
   "cell_type": "markdown",
   "metadata": {},
   "source": [
    "# Over sample class 1"
   ]
  },
  {
   "cell_type": "code",
   "execution_count": 7,
   "metadata": {},
   "outputs": [
    {
     "name": "stdout",
     "output_type": "stream",
     "text": [
      "8848\n"
     ]
    },
    {
     "data": {
      "text/plain": [
       "(array([8848.,    0.,    0.,    0.,    0.,    0.,    0.,    0.,    0.,\n",
       "        8848.]),\n",
       " array([0. , 0.1, 0.2, 0.3, 0.4, 0.5, 0.6, 0.7, 0.8, 0.9, 1. ]),\n",
       " <a list of 10 Patch objects>)"
      ]
     },
     "execution_count": 7,
     "metadata": {},
     "output_type": "execute_result"
    },
    {
     "data": {
      "image/png": "[encoded data removed]",
      "text/plain": [
       "<Figure size 432x288 with 1 Axes>"
      ]
     },
     "metadata": {
      "needs_background": "light"
     },
     "output_type": "display_data"
    }
   ],
   "source": [
    "# over sampling for class 1\n",
    "# Generate a new sample of count0 items of count1\n",
    "over1 = aclass1.sample(count0,replace=True)\n",
    "alcoholos = pd.concat([aclass0,over1],axis=0)\n",
    "print(len(over1))\n",
    "plt.hist(alcoholos.abuse)"
   ]
  },
  {
   "cell_type": "markdown",
   "metadata": {},
   "source": [
    "# Undersample Class 0"
   ]
  },
  {
   "cell_type": "code",
   "execution_count": 8,
   "metadata": {},
   "outputs": [],
   "source": [
    "# under sampling\n",
    "# Generate sample of class 0 types matching number of class 1 types\n",
    "under0 = aclass0.sample(count1)\n",
    "alcoholus = pd.concat([under0,aclass1],axis=0)"
   ]
  },
  {
   "cell_type": "code",
   "execution_count": 10,
   "metadata": {},
   "outputs": [
    {
     "data": {
      "text/plain": [
       "(array([974.,   0.,   0.,   0.,   0.,   0.,   0.,   0.,   0., 974.]),\n",
       " array([0. , 0.1, 0.2, 0.3, 0.4, 0.5, 0.6, 0.7, 0.8, 0.9, 1. ]),\n",
       " <a list of 10 Patch objects>)"
      ]
     },
     "execution_count": 10,
     "metadata": {},
     "output_type": "execute_result"
    },
    {
     "data": {
      "image/png": "[encoded data removed]",
      "text/plain": [
       "<Figure size 432x288 with 1 Axes>"
      ]
     },
     "metadata": {
      "needs_background": "light"
     },
     "output_type": "display_data"
    }
   ],
   "source": [
    "plt.hist(alcoholus.abuse)"
   ]
  },
  {
   "cell_type": "code",
   "execution_count": 9,
   "metadata": {},
   "outputs": [
    {
     "name": "stdout",
     "output_type": "stream",
     "text": [
      "0.5\n"
     ]
    },
    {
     "data": {
      "text/html": [
       "<div>\n",
       "<style scoped>\n",
       "    .dataframe tbody tr th:only-of-type {\n",
       "        vertical-align: middle;\n",
       "    }\n",
       "\n",
       "    .dataframe tbody tr th {\n",
       "        vertical-align: top;\n",
       "    }\n",
       "\n",
       "    .dataframe thead th {\n",
       "        text-align: right;\n",
       "    }\n",
       "</style>\n",
       "<table border=\"1\" class=\"dataframe\">\n",
       "  <thead>\n",
       "    <tr style=\"text-align: right;\">\n",
       "      <th></th>\n",
       "      <th>status</th>\n",
       "      <th>unemrate</th>\n",
       "      <th>age</th>\n",
       "      <th>educ</th>\n",
       "      <th>married</th>\n",
       "      <th>famsize</th>\n",
       "      <th>white</th>\n",
       "      <th>exhealth</th>\n",
       "      <th>vghealth</th>\n",
       "      <th>goodhealth</th>\n",
       "      <th>...</th>\n",
       "      <th>qrt2</th>\n",
       "      <th>qrt3</th>\n",
       "      <th>beertax</th>\n",
       "      <th>cigtax</th>\n",
       "      <th>ethanol</th>\n",
       "      <th>mothalc</th>\n",
       "      <th>fathalc</th>\n",
       "      <th>livealc</th>\n",
       "      <th>inwf</th>\n",
       "      <th>employ</th>\n",
       "    </tr>\n",
       "  </thead>\n",
       "  <tbody>\n",
       "    <tr>\n",
       "      <th>5504</th>\n",
       "      <td>3</td>\n",
       "      <td>3.3</td>\n",
       "      <td>29</td>\n",
       "      <td>17</td>\n",
       "      <td>0</td>\n",
       "      <td>1</td>\n",
       "      <td>0</td>\n",
       "      <td>0</td>\n",
       "      <td>1</td>\n",
       "      <td>0</td>\n",
       "      <td>...</td>\n",
       "      <td>0</td>\n",
       "      <td>1</td>\n",
       "      <td>0.240</td>\n",
       "      <td>26.0</td>\n",
       "      <td>2.44998</td>\n",
       "      <td>0</td>\n",
       "      <td>0</td>\n",
       "      <td>0</td>\n",
       "      <td>1</td>\n",
       "      <td>1</td>\n",
       "    </tr>\n",
       "    <tr>\n",
       "      <th>367</th>\n",
       "      <td>3</td>\n",
       "      <td>6.4</td>\n",
       "      <td>33</td>\n",
       "      <td>12</td>\n",
       "      <td>0</td>\n",
       "      <td>1</td>\n",
       "      <td>1</td>\n",
       "      <td>0</td>\n",
       "      <td>0</td>\n",
       "      <td>1</td>\n",
       "      <td>...</td>\n",
       "      <td>0</td>\n",
       "      <td>0</td>\n",
       "      <td>0.180</td>\n",
       "      <td>20.0</td>\n",
       "      <td>2.18556</td>\n",
       "      <td>0</td>\n",
       "      <td>1</td>\n",
       "      <td>1</td>\n",
       "      <td>1</td>\n",
       "      <td>1</td>\n",
       "    </tr>\n",
       "    <tr>\n",
       "      <th>1374</th>\n",
       "      <td>3</td>\n",
       "      <td>6.0</td>\n",
       "      <td>37</td>\n",
       "      <td>4</td>\n",
       "      <td>1</td>\n",
       "      <td>4</td>\n",
       "      <td>1</td>\n",
       "      <td>1</td>\n",
       "      <td>0</td>\n",
       "      <td>0</td>\n",
       "      <td>...</td>\n",
       "      <td>0</td>\n",
       "      <td>0</td>\n",
       "      <td>0.360</td>\n",
       "      <td>14.0</td>\n",
       "      <td>1.73238</td>\n",
       "      <td>0</td>\n",
       "      <td>0</td>\n",
       "      <td>0</td>\n",
       "      <td>1</td>\n",
       "      <td>1</td>\n",
       "    </tr>\n",
       "    <tr>\n",
       "      <th>8656</th>\n",
       "      <td>3</td>\n",
       "      <td>5.3</td>\n",
       "      <td>57</td>\n",
       "      <td>12</td>\n",
       "      <td>1</td>\n",
       "      <td>2</td>\n",
       "      <td>1</td>\n",
       "      <td>0</td>\n",
       "      <td>0</td>\n",
       "      <td>0</td>\n",
       "      <td>...</td>\n",
       "      <td>0</td>\n",
       "      <td>0</td>\n",
       "      <td>0.259</td>\n",
       "      <td>10.5</td>\n",
       "      <td>1.69371</td>\n",
       "      <td>0</td>\n",
       "      <td>0</td>\n",
       "      <td>0</td>\n",
       "      <td>1</td>\n",
       "      <td>1</td>\n",
       "    </tr>\n",
       "    <tr>\n",
       "      <th>4389</th>\n",
       "      <td>3</td>\n",
       "      <td>3.2</td>\n",
       "      <td>36</td>\n",
       "      <td>12</td>\n",
       "      <td>1</td>\n",
       "      <td>2</td>\n",
       "      <td>1</td>\n",
       "      <td>0</td>\n",
       "      <td>1</td>\n",
       "      <td>0</td>\n",
       "      <td>...</td>\n",
       "      <td>1</td>\n",
       "      <td>0</td>\n",
       "      <td>0.145</td>\n",
       "      <td>14.0</td>\n",
       "      <td>2.48013</td>\n",
       "      <td>0</td>\n",
       "      <td>0</td>\n",
       "      <td>0</td>\n",
       "      <td>1</td>\n",
       "      <td>1</td>\n",
       "    </tr>\n",
       "  </tbody>\n",
       "</table>\n",
       "<p>5 rows × 27 columns</p>\n",
       "</div>"
      ],
      "text/plain": [
       "      status  unemrate  age  educ  married  famsize  white  exhealth  \\\n",
       "5504       3       3.3   29    17        0        1      0         0   \n",
       "367        3       6.4   33    12        0        1      1         0   \n",
       "1374       3       6.0   37     4        1        4      1         1   \n",
       "8656       3       5.3   57    12        1        2      1         0   \n",
       "4389       3       3.2   36    12        1        2      1         0   \n",
       "\n",
       "      vghealth  goodhealth  ...  qrt2  qrt3  beertax  cigtax  ethanol  \\\n",
       "5504         1           0  ...     0     1    0.240    26.0  2.44998   \n",
       "367          0           1  ...     0     0    0.180    20.0  2.18556   \n",
       "1374         0           0  ...     0     0    0.360    14.0  1.73238   \n",
       "8656         0           0  ...     0     0    0.259    10.5  1.69371   \n",
       "4389         1           0  ...     1     0    0.145    14.0  2.48013   \n",
       "\n",
       "      mothalc  fathalc  livealc  inwf  employ  \n",
       "5504        0        0        0     1       1  \n",
       "367         0        1        1     1       1  \n",
       "1374        0        0        0     1       1  \n",
       "8656        0        0        0     1       1  \n",
       "4389        0        0        0     1       1  \n",
       "\n",
       "[5 rows x 27 columns]"
      ]
     },
     "execution_count": 9,
     "metadata": {},
     "output_type": "execute_result"
    }
   ],
   "source": [
    "# set up data, and check if balanced\n",
    "y = alcoholus.abuse\n",
    "X = alcoholus.iloc[:,2:33]\n",
    "print(np.mean(y))\n",
    "X.head()"
   ]
  },
  {
   "cell_type": "markdown",
   "metadata": {},
   "source": [
    "### Example of three simple classifiers"
   ]
  },
  {
   "cell_type": "markdown",
   "metadata": {},
   "source": [
    "### Logistic Regression"
   ]
  },
  {
   "cell_type": "code",
   "execution_count": 30,
   "metadata": {},
   "outputs": [
    {
     "name": "stdout",
     "output_type": "stream",
     "text": [
      "    rank_test_score  mean_test_score param_C\n",
      "0                15         0.489179   1e-05\n",
      "1                14         0.517721  0.0001\n",
      "2                13         0.550719   0.001\n",
      "3                 1         0.553018    0.01\n",
      "4                12         0.552074     0.1\n",
      "5                11         0.552444       1\n",
      "6                 2         0.552485      10\n",
      "7                 3         0.552464     100\n",
      "8                 3         0.552464    1000\n",
      "9                 3         0.552464   10000\n",
      "10                3         0.552464  100000\n",
      "11                3         0.552464   1e+06\n",
      "12                3         0.552464   1e+07\n",
      "13                3         0.552464   1e+08\n",
      "14                3         0.552464   1e+09\n"
     ]
    }
   ],
   "source": [
    "# Now set up a grid search over parameters\n",
    "from sklearn.model_selection import GridSearchCV\n",
    "from sklearn.model_selection import ShuffleSplit\n",
    "score_used = 'accuracy' \n",
    "# set up dictionary for grid search\n",
    "param_grid={'C':[1.e-05, 1.e-04, 1.e-03, 1.e-02, 1.e-01, 1.e+00, 1.e+01, 1.e+02,\n",
    "       1.e+03, 1.e+04, 1.e+05, 1.e+06, 1.e+07, 1.e+08, 1.e+09],'max_iter':[2000]}\n",
    "# set up cross-validation shuffles\n",
    "shuffle_split = ShuffleSplit(test_size=0.25, train_size=0.75, n_splits=100)\n",
    "# set up search\n",
    "grid_search=GridSearchCV(LogisticRegression(),param_grid,cv=shuffle_split,scoring=score_used, \n",
    "                              return_train_score=True)\n",
    "scaler = StandardScaler().fit(X)\n",
    "X_scale = scaler.transform(X)\n",
    "# implement search\n",
    "grid_search.fit(X_scale,y)\n",
    "# move results into DataFrame\n",
    "results = pd.DataFrame(grid_search.cv_results_)\n",
    "print(results[['rank_test_score','mean_test_score','param_C']])"
   ]
  },
  {
   "cell_type": "code",
   "execution_count": 31,
   "metadata": {},
   "outputs": [
    {
     "data": {
      "text/plain": [
       "Text(0, 0.5, 'Mean Test Score')"
      ]
     },
     "execution_count": 31,
     "metadata": {},
     "output_type": "execute_result"
    },
    {
     "data": {
      "image/png": "[encoded data removed]",
      "text/plain": [
       "<Figure size 432x288 with 1 Axes>"
      ]
     },
     "metadata": {
      "needs_background": "light"
     },
     "output_type": "display_data"
    }
   ],
   "source": [
    "plt.semilogx(results.param_C,results.mean_test_score)\n",
    "plt.grid()\n",
    "plt.xlabel('C')\n",
    "plt.ylabel('Mean Test Score')"
   ]
  },
  {
   "cell_type": "markdown",
   "metadata": {},
   "source": [
    "### K Nearest Neighbors Classification"
   ]
  },
  {
   "cell_type": "code",
   "execution_count": 32,
   "metadata": {},
   "outputs": [
    {
     "name": "stdout",
     "output_type": "stream",
     "text": [
      "   rank_test_score  mean_test_score param_n_neighbors\n",
      "0                7         0.516057                10\n",
      "1                3         0.537967                50\n",
      "2                2         0.538747               100\n",
      "3                4         0.537803               200\n",
      "4                1         0.538994               300\n",
      "5                5         0.533409               400\n",
      "6                6         0.530554               500\n"
     ]
    }
   ],
   "source": [
    "score_used = 'accuracy' \n",
    "# set up dictionary for grid search\n",
    "param_grid={'n_neighbors':[10, 50, 100, 200, 300, 400, 500]}\n",
    "# set up cross-validation shuffles\n",
    "shuffle_split = ShuffleSplit(test_size=0.25, train_size=0.75, n_splits=100)\n",
    "# set up search\n",
    "grid_search=GridSearchCV(KNeighborsClassifier(),param_grid,cv=shuffle_split,scoring=score_used, \n",
    "                              return_train_score=True)\n",
    "# implement search\n",
    "grid_search.fit(X_scale,y)\n",
    "# move results into DataFrame\n",
    "results = pd.DataFrame(grid_search.cv_results_)\n",
    "print(results[['rank_test_score','mean_test_score','param_n_neighbors']])"
   ]
  },
  {
   "cell_type": "code",
   "execution_count": 34,
   "metadata": {},
   "outputs": [
    {
     "data": {
      "text/plain": [
       "Text(0, 0.5, 'Mean Test Score')"
      ]
     },
     "execution_count": 34,
     "metadata": {},
     "output_type": "execute_result"
    },
    {
     "data": {
      "image/png": "[encoded data removed]",
      "text/plain": [
       "<Figure size 432x288 with 1 Axes>"
      ]
     },
     "metadata": {
      "needs_background": "light"
     },
     "output_type": "display_data"
    }
   ],
   "source": [
    "plt.plot(results.param_n_neighbors,results.mean_test_score)\n",
    "plt.grid()\n",
    "plt.xlabel('number of neighbors')\n",
    "plt.ylabel('Mean Test Score')"
   ]
  },
  {
   "cell_type": "markdown",
   "metadata": {},
   "source": [
    "### Random Forest Classifier"
   ]
  },
  {
   "cell_type": "code",
   "execution_count": 42,
   "metadata": {},
   "outputs": [
    {
     "name": "stdout",
     "output_type": "stream",
     "text": [
      "    rank_test_score  mean_test_score param_max_features param_max_depth\n",
      "0                50         0.533347                  1               2\n",
      "1                31         0.537823                  2               2\n",
      "2                15         0.542752                  3               2\n",
      "3                 7         0.546140                  4               2\n",
      "4                 5         0.546242                  5               2\n",
      "5                 4         0.546550                  6               2\n",
      "6                 1         0.547967                  7               2\n",
      "7                 2         0.547823                  8               2\n",
      "8                 3         0.547331                  9               2\n",
      "9                 6         0.546160                 10               2\n",
      "10               33         0.537495                  1               4\n",
      "11               14         0.542772                  2               4\n",
      "12               10         0.544538                  3               4\n",
      "13               11         0.544374                  4               4\n",
      "14               12         0.544230                  5               4\n",
      "15               13         0.543717                  6               4\n",
      "16               16         0.542464                  7               4\n",
      "17               19         0.542053                  8               4\n",
      "18                8         0.545626                  9               4\n",
      "19                9         0.544641                 10               4\n",
      "20               36         0.536304                  1               6\n",
      "21               23         0.540760                  2               6\n",
      "22               24         0.540062                  3               6\n",
      "23               27         0.538850                  4               6\n",
      "24               26         0.539630                  5               6\n",
      "25               22         0.540945                  6               6\n",
      "26               21         0.541129                  7               6\n",
      "27               20         0.541643                  8               6\n",
      "28               17         0.542444                  9               6\n",
      "29               18         0.542382                 10               6\n",
      "30               45         0.534148                  1               8\n",
      "31               37         0.535585                  2               8\n",
      "32               30         0.537967                  3               8\n",
      "33               34         0.536735                  4               8\n",
      "34               29         0.538070                  5               8\n",
      "35               38         0.535339                  6               8\n",
      "36               32         0.537680                  7               8\n",
      "37               35         0.536324                  8               8\n",
      "38               25         0.539774                  9               8\n",
      "39               28         0.538706                 10               8\n",
      "40               44         0.534394                  1              10\n",
      "41               47         0.534004                  2              10\n",
      "42               40         0.534949                  3              10\n",
      "43               43         0.534559                  4              10\n",
      "44               41         0.534825                  5              10\n",
      "45               49         0.533470                  6              10\n",
      "46               42         0.534620                  7              10\n",
      "47               46         0.534107                  8              10\n",
      "48               48         0.533573                  9              10\n",
      "49               39         0.535216                 10              10\n"
     ]
    }
   ],
   "source": [
    "score_used = 'accuracy' \n",
    "# set up dictionary for grid search\n",
    "maxf=np.arange(start=1,stop=11,step=1,dtype=int)\n",
    "maxd=np.arange(start=2,stop=11,step=2,dtype=int)\n",
    "param_grid={'n_estimators':[100],'max_features':maxf,'max_depth':maxd}\n",
    "# set up cross-validation shuffles\n",
    "shuffle_split = ShuffleSplit(test_size=0.25, train_size=0.75, n_splits=100)\n",
    "# set up search\n",
    "grid_search=GridSearchCV(RandomForestClassifier(),param_grid,cv=shuffle_split,scoring=score_used, \n",
    "                              return_train_score=True)\n",
    "# implement search\n",
    "# Scaling is done to Normalize data so that priority is not given to a particular feature. \n",
    "# Role of Scaling is mostly important in algorithms that are distance based and require Euclidean Distance.\n",
    "# Random Forest is a tree-based model and hence does not require feature scaling.\n",
    "# This algorithm requires partitioning, even if you apply Normalization then also> the result would be the same.\n",
    "grid_search.fit(X,y)\n",
    "# move results into DataFrame\n",
    "results = pd.DataFrame(grid_search.cv_results_)\n",
    "print(results[['rank_test_score','mean_test_score','param_max_features','param_max_depth']])"
   ]
  }
 ],
 "metadata": {
  "kernelspec": {
   "display_name": "Python 3",
   "language": "python",
   "name": "python3"
  },
  "language_info": {
   "codemirror_mode": {
    "name": "ipython",
    "version": 3
   },
   "file_extension": ".py",
   "mimetype": "text/x-python",
   "name": "python",
   "nbconvert_exporter": "python",
   "pygments_lexer": "ipython3",
   "version": "3.7.6"
  }
 },
 "nbformat": 4,
 "nbformat_minor": 4
}
