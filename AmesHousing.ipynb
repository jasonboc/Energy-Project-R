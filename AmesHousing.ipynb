{
 "cells": [
  {
   "cell_type": "markdown",
   "metadata": {},
   "source": [
    "# Ames House price series"
   ]
  },
  {
   "cell_type": "code",
   "execution_count": 1,
   "metadata": {},
   "outputs": [],
   "source": [
    "# Load tools\n",
    "import pandas as pd\n",
    "import matplotlib.pyplot as plt\n",
    "import seaborn as sns\n",
    "import numpy as np\n",
    "from scipy.stats import norm\n",
    "from sklearn.preprocessing import StandardScaler\n",
    "from sklearn.preprocessing import OneHotEncoder\n",
    "from sklearn.preprocessing import OrdinalEncoder\n",
    "from scipy import stats\n",
    "import warnings\n",
    "warnings.filterwarnings('ignore')\n",
    "import numpy as np\n",
    "import matplotlib\n",
    "from sklearn.model_selection import train_test_split\n",
    "from sklearn.linear_model import LinearRegression\n",
    "from sklearn.linear_model import Ridge\n",
    "from sklearn.linear_model import Lasso\n",
    "import matplotlib as mpl\n",
    "from sklearn.preprocessing import StandardScaler"
   ]
  },
  {
   "cell_type": "code",
   "execution_count": 2,
   "metadata": {},
   "outputs": [],
   "source": [
    "df = pd.read_csv('KaggleAmes.csv')"
   ]
  },
  {
   "cell_type": "code",
   "execution_count": 3,
   "metadata": {},
   "outputs": [],
   "source": [
    "# drop a bunch of useless series\n",
    "bigDrop = False\n",
    "if (bigDrop):\n",
    "    df.drop(df.columns[[0,2,6, 7, 8,9,10,11,12,13,14,21,22,23,24,25,27,28,29,\n",
    "                        32,33,35,36,39,40,42,45,47,48,49,50,52,53,55,57,60,63,\n",
    "                        64,65,68,69,70,71,72,73,74,75,76,78,79]],axis=1,inplace=True)\n",
    "if(not(bigDrop)):\n",
    "    df.drop(df.columns[[0]],axis=1,inplace=True)"
   ]
  },
  {
   "cell_type": "code",
   "execution_count": 4,
   "metadata": {},
   "outputs": [
    {
     "name": "stdout",
     "output_type": "stream",
     "text": [
      "        MSSubClass  LotFrontage        LotArea  OverallQual  OverallCond  \\\n",
      "count  1460.000000  1201.000000    1460.000000  1460.000000  1460.000000   \n",
      "mean     56.897260    70.049958   10516.828082     6.099315     5.575342   \n",
      "std      42.300571    24.284752    9981.264932     1.382997     1.112799   \n",
      "min      20.000000    21.000000    1300.000000     1.000000     1.000000   \n",
      "25%      20.000000    59.000000    7553.500000     5.000000     5.000000   \n",
      "50%      50.000000    69.000000    9478.500000     6.000000     5.000000   \n",
      "75%      70.000000    80.000000   11601.500000     7.000000     6.000000   \n",
      "max     190.000000   313.000000  215245.000000    10.000000     9.000000   \n",
      "\n",
      "         YearBuilt  YearRemodAdd   MasVnrArea   BsmtFinSF1   BsmtFinSF2  ...  \\\n",
      "count  1460.000000   1460.000000  1452.000000  1460.000000  1460.000000  ...   \n",
      "mean   1971.267808   1984.865753   103.685262   443.639726    46.549315  ...   \n",
      "std      30.202904     20.645407   181.066207   456.098091   161.319273  ...   \n",
      "min    1872.000000   1950.000000     0.000000     0.000000     0.000000  ...   \n",
      "25%    1954.000000   1967.000000     0.000000     0.000000     0.000000  ...   \n",
      "50%    1973.000000   1994.000000     0.000000   383.500000     0.000000  ...   \n",
      "75%    2000.000000   2004.000000   166.000000   712.250000     0.000000  ...   \n",
      "max    2010.000000   2010.000000  1600.000000  5644.000000  1474.000000  ...   \n",
      "\n",
      "        WoodDeckSF  OpenPorchSF  EnclosedPorch    3SsnPorch  ScreenPorch  \\\n",
      "count  1460.000000  1460.000000    1460.000000  1460.000000  1460.000000   \n",
      "mean     94.244521    46.660274      21.954110     3.409589    15.060959   \n",
      "std     125.338794    66.256028      61.119149    29.317331    55.757415   \n",
      "min       0.000000     0.000000       0.000000     0.000000     0.000000   \n",
      "25%       0.000000     0.000000       0.000000     0.000000     0.000000   \n",
      "50%       0.000000    25.000000       0.000000     0.000000     0.000000   \n",
      "75%     168.000000    68.000000       0.000000     0.000000     0.000000   \n",
      "max     857.000000   547.000000     552.000000   508.000000   480.000000   \n",
      "\n",
      "          PoolArea       MiscVal       MoSold       YrSold      SalePrice  \n",
      "count  1460.000000   1460.000000  1460.000000  1460.000000    1460.000000  \n",
      "mean      2.758904     43.489041     6.321918  2007.815753  180921.195890  \n",
      "std      40.177307    496.123024     2.703626     1.328095   79442.502883  \n",
      "min       0.000000      0.000000     1.000000  2006.000000   34900.000000  \n",
      "25%       0.000000      0.000000     5.000000  2007.000000  129975.000000  \n",
      "50%       0.000000      0.000000     6.000000  2008.000000  163000.000000  \n",
      "75%       0.000000      0.000000     8.000000  2009.000000  214000.000000  \n",
      "max     738.000000  15500.000000    12.000000  2010.000000  755000.000000  \n",
      "\n",
      "[8 rows x 37 columns]\n",
      "(1460, 80)\n"
     ]
    }
   ],
   "source": [
    "print(df.describe())\n",
    "print(df.shape)"
   ]
  },
  {
   "cell_type": "code",
   "execution_count": 5,
   "metadata": {},
   "outputs": [
    {
     "name": "stdout",
     "output_type": "stream",
     "text": [
      "Index(['MSSubClass', 'MSZoning', 'LotFrontage', 'LotArea', 'Street', 'Alley',\n",
      "       'LotShape', 'LandContour', 'Utilities', 'LotConfig', 'LandSlope',\n",
      "       'Neighborhood', 'Condition1', 'Condition2', 'BldgType', 'HouseStyle',\n",
      "       'OverallQual', 'OverallCond', 'YearBuilt', 'YearRemodAdd', 'RoofStyle',\n",
      "       'RoofMatl', 'Exterior1st', 'Exterior2nd', 'MasVnrType', 'MasVnrArea',\n",
      "       'ExterQual', 'ExterCond', 'Foundation', 'BsmtQual', 'BsmtCond',\n",
      "       'BsmtExposure', 'BsmtFinType1', 'BsmtFinSF1', 'BsmtFinType2',\n",
      "       'BsmtFinSF2', 'BsmtUnfSF', 'TotalBsmtSF', 'Heating', 'HeatingQC',\n",
      "       'CentralAir', 'Electrical', '1stFlrSF', '2ndFlrSF', 'LowQualFinSF',\n",
      "       'GrLivArea', 'BsmtFullBath', 'BsmtHalfBath', 'FullBath', 'HalfBath',\n",
      "       'BedroomAbvGr', 'KitchenAbvGr', 'KitchenQual', 'TotRmsAbvGrd',\n",
      "       'Functional', 'Fireplaces', 'FireplaceQu', 'GarageType', 'GarageYrBlt',\n",
      "       'GarageFinish', 'GarageCars', 'GarageArea', 'GarageQual', 'GarageCond',\n",
      "       'PavedDrive', 'WoodDeckSF', 'OpenPorchSF', 'EnclosedPorch', '3SsnPorch',\n",
      "       'ScreenPorch', 'PoolArea', 'PoolQC', 'Fence', 'MiscFeature', 'MiscVal',\n",
      "       'MoSold', 'YrSold', 'SaleType', 'SaleCondition', 'SalePrice'],\n",
      "      dtype='object')\n"
     ]
    },
    {
     "data": {
      "text/plain": [
       "0       WD\n",
       "1       WD\n",
       "2       WD\n",
       "3       WD\n",
       "4       WD\n",
       "        ..\n",
       "1455    WD\n",
       "1456    WD\n",
       "1457    WD\n",
       "1458    WD\n",
       "1459    WD\n",
       "Name: SaleType, Length: 1460, dtype: object"
      ]
     },
     "execution_count": 5,
     "metadata": {},
     "output_type": "execute_result"
    }
   ],
   "source": [
    "# display all variable names\n",
    "print(df.columns)\n",
    "df[\"SaleType\"]"
   ]
  },
  {
   "cell_type": "code",
   "execution_count": 6,
   "metadata": {},
   "outputs": [],
   "source": [
    "# drop series with similar stuff\n",
    "# Shift param down to 0.95\n",
    "sameThresh = 1.00\n",
    "dropSameList = []\n",
    "for i in range(df.shape[1]):\n",
    "    xsame = np.mean( df.iloc[0,i]==df.iloc[:,i])\n",
    "    if(xsame>sameThresh):\n",
    "        dropSameList.append(i) \n",
    "df.drop(df.columns[[dropSameList]],axis=1,inplace=True)"
   ]
  },
  {
   "cell_type": "code",
   "execution_count": 7,
   "metadata": {},
   "outputs": [],
   "source": [
    "# Check NA's in each column\n",
    "# drop variables with > missingThresh\n",
    "missingThresh = 50.\n",
    "percent_missing = df.isnull().sum() * 100 / len(df)\n",
    "missing_value_df = pd.DataFrame({'column_name': df.columns,\n",
    "                                 'percent_missing': percent_missing})\n",
    "drop_col = missing_value_df[missing_value_df.percent_missing > missingThresh]\n",
    "missing_list = drop_col.column_name.values\n",
    "df.drop(missing_list,axis=1,inplace=True)"
   ]
  },
  {
   "cell_type": "code",
   "execution_count": 8,
   "metadata": {},
   "outputs": [
    {
     "name": "stdout",
     "output_type": "stream",
     "text": [
      "        MSSubClass  LotFrontage        LotArea  OverallQual  OverallCond  \\\n",
      "count  1460.000000  1460.000000    1460.000000  1460.000000  1460.000000   \n",
      "mean     56.897260    70.049958   10516.828082     6.099315     5.575342   \n",
      "std      42.300571    22.024023    9981.264932     1.382997     1.112799   \n",
      "min      20.000000    21.000000    1300.000000     1.000000     1.000000   \n",
      "25%      20.000000    60.000000    7553.500000     5.000000     5.000000   \n",
      "50%      50.000000    70.049958    9478.500000     6.000000     5.000000   \n",
      "75%      70.000000    79.000000   11601.500000     7.000000     6.000000   \n",
      "max     190.000000   313.000000  215245.000000    10.000000     9.000000   \n",
      "\n",
      "         YearBuilt  YearRemodAdd   MasVnrArea   BsmtFinSF1   BsmtFinSF2  ...  \\\n",
      "count  1460.000000   1460.000000  1460.000000  1460.000000  1460.000000  ...   \n",
      "mean   1971.267808   1984.865753   103.685262   443.639726    46.549315  ...   \n",
      "std      30.202904     20.645407   180.569112   456.098091   161.319273  ...   \n",
      "min    1872.000000   1950.000000     0.000000     0.000000     0.000000  ...   \n",
      "25%    1954.000000   1967.000000     0.000000     0.000000     0.000000  ...   \n",
      "50%    1973.000000   1994.000000     0.000000   383.500000     0.000000  ...   \n",
      "75%    2000.000000   2004.000000   164.250000   712.250000     0.000000  ...   \n",
      "max    2010.000000   2010.000000  1600.000000  5644.000000  1474.000000  ...   \n",
      "\n",
      "       SaleType_ConLw  SaleType_New  SaleType_Oth  SaleType_WD  \\\n",
      "count     1460.000000   1460.000000   1460.000000  1460.000000   \n",
      "mean         0.003425      0.083562      0.002055     0.867808   \n",
      "std          0.058440      0.276824      0.045299     0.338815   \n",
      "min          0.000000      0.000000      0.000000     0.000000   \n",
      "25%          0.000000      0.000000      0.000000     1.000000   \n",
      "50%          0.000000      0.000000      0.000000     1.000000   \n",
      "75%          0.000000      0.000000      0.000000     1.000000   \n",
      "max          1.000000      1.000000      1.000000     1.000000   \n",
      "\n",
      "       SaleCondition_Abnorml  SaleCondition_AdjLand  SaleCondition_Alloca  \\\n",
      "count            1460.000000            1460.000000           1460.000000   \n",
      "mean                0.069178               0.002740              0.008219   \n",
      "std                 0.253844               0.052289              0.090317   \n",
      "min                 0.000000               0.000000              0.000000   \n",
      "25%                 0.000000               0.000000              0.000000   \n",
      "50%                 0.000000               0.000000              0.000000   \n",
      "75%                 0.000000               0.000000              0.000000   \n",
      "max                 1.000000               1.000000              1.000000   \n",
      "\n",
      "       SaleCondition_Family  SaleCondition_Normal  SaleCondition_Partial  \n",
      "count           1460.000000           1460.000000            1460.000000  \n",
      "mean               0.013699              0.820548               0.085616  \n",
      "std                0.116277              0.383862               0.279893  \n",
      "min                0.000000              0.000000               0.000000  \n",
      "25%                0.000000              1.000000               0.000000  \n",
      "50%                0.000000              1.000000               0.000000  \n",
      "75%                0.000000              1.000000               0.000000  \n",
      "max                1.000000              1.000000               1.000000  \n",
      "\n",
      "[8 rows x 276 columns]\n"
     ]
    }
   ],
   "source": [
    "# generate dummies\n",
    "df = pd.get_dummies(df)\n",
    "# fill na's with means\n",
    "df = df.fillna(df.mean())\n",
    "print(df.describe())"
   ]
  },
  {
   "cell_type": "code",
   "execution_count": 9,
   "metadata": {},
   "outputs": [],
   "source": [
    "#change y to SalesPrice log \n",
    "# y = np.log(df.SalePrice)\n",
    "y = df.SalePrice\n",
    "\n",
    "#drop original dependent variable\n",
    "X = df.drop(['SalePrice'], axis=1)"
   ]
  },
  {
   "cell_type": "code",
   "execution_count": 10,
   "metadata": {},
   "outputs": [
    {
     "name": "stdout",
     "output_type": "stream",
     "text": [
      "Train R-squared mean: 0.9482\n",
      "Train R-squared standard deviation: 0.0080\n",
      "Test R-squared mean: -86653293.6125\n",
      "Test R-squared standard deviation: 708471362.6320\n"
     ]
    }
   ],
   "source": [
    " # Linear regression\n",
    "nmc = 100\n",
    "lr = LinearRegression()\n",
    "TestRsquareVec = np.zeros(nmc)\n",
    "TrainRsquareVec = np.zeros(nmc)\n",
    "for i in range(nmc):\n",
    "    # set train/test samples\n",
    "    X_train, X_test, y_train, y_test = train_test_split(X,y,test_size=0.5)\n",
    "    # Run linear regression\n",
    "    lr.fit(X_train, y_train)\n",
    "    # print scores, which is R-squared (fit)\n",
    "    TestRsquareVec[i] = lr.score(X_test,y_test)\n",
    "    TrainRsquareVec[i] = lr.score(X_train,y_train)\n",
    "    \n",
    "# Statistics\n",
    "print(\"Train R-squared mean: {:.4f}\".format(np.mean(TrainRsquareVec)))\n",
    "print(\"Train R-squared standard deviation: {:.4f}\".format(np.std(TrainRsquareVec)))\n",
    "print(\"Test R-squared mean: {:.4f}\".format(np.mean(TestRsquareVec)))\n",
    "print(\"Test R-squared standard deviation: {:.4f}\".format(np.std(TestRsquareVec)))"
   ]
  },
  {
   "cell_type": "code",
   "execution_count": 17,
   "metadata": {},
   "outputs": [
    {
     "name": "stdout",
     "output_type": "stream",
     "text": [
      "alpha = 0.5:\n",
      "Train R-squared mean: 0.9384\n",
      "Train R-squared standard deviation: 0.0057\n",
      "Test R-squared mean: 0.8124\n",
      "Test R-squared standard deviation: 0.0935\n",
      "\n",
      "alpha = 1.0:\n",
      "Train R-squared mean: 0.9384\n",
      "Train R-squared standard deviation: 0.0062\n",
      "Test R-squared mean: 0.7991\n",
      "Test R-squared standard deviation: 0.0945\n",
      "\n",
      "alpha = 2.0:\n",
      "Train R-squared mean: 0.9404\n",
      "Train R-squared standard deviation: 0.0052\n",
      "Test R-squared mean: 0.7981\n",
      "Test R-squared standard deviation: 0.1000\n",
      "\n",
      "alpha = 3.0:\n",
      "Train R-squared mean: 0.9378\n",
      "Train R-squared standard deviation: 0.0055\n",
      "Test R-squared mean: 0.7778\n",
      "Test R-squared standard deviation: 0.1227\n",
      "\n"
     ]
    }
   ],
   "source": [
    "# Ridge Regression\n",
    "from sklearn.linear_model import Ridge\n",
    "alpha_settings = np.array([0.5, 1.0, 2.0, 3.0]) #try bigger alphas\n",
    "nmc = 50\n",
    "\n",
    "for a in alpha_settings:\n",
    "    ridge = Ridge(alpha=a)\n",
    "    trainScore = np.zeros(nmc)\n",
    "    testScore  = np.zeros(nmc)\n",
    "    for n in range(nmc):\n",
    "        X_train, X_test, y_train, y_test = train_test_split(X,y,test_size=0.25)\n",
    "        scaler = StandardScaler().fit(X_train)\n",
    "        X_train2 = scaler.transform(X_train)\n",
    "        X_test2  = scaler.transform(X_test)\n",
    "        ridge.fit(X_train2, y_train)\n",
    "        testScore[n] = ridge.score(X_test2,y_test)\n",
    "        trainScore[n] = ridge.score(X_train2,y_train)\n",
    "    print('alpha = '+str(a)+\":\")\n",
    "    print(\"Train R-squared mean: {:.4f}\".format(np.mean(trainScore)))\n",
    "    print(\"Train R-squared standard deviation: {:.4f}\".format(np.std(trainScore)))\n",
    "    print(\"Test R-squared mean: {:.4f}\".format(np.mean(testScore)))\n",
    "    print(\"Test R-squared standard deviation: {:.4f}\".format(np.std(testScore)))\n",
    "    print(end=\"\\n\")"
   ]
  },
  {
   "cell_type": "code",
   "execution_count": 12,
   "metadata": {},
   "outputs": [
    {
     "name": "stdout",
     "output_type": "stream",
     "text": [
      "max_depth = 5:\n",
      "Train R-squared mean: 0.8705\n",
      "Train R-squared standard deviation: 0.0085\n",
      "Test R-squared mean: 0.6976\n",
      "Test R-squared standard deviation: 0.0787\n",
      "\n",
      "max_depth = 10:\n",
      "Train R-squared mean: 0.9876\n",
      "Train R-squared standard deviation: 0.0022\n",
      "Test R-squared mean: 0.7238\n",
      "Test R-squared standard deviation: 0.0756\n",
      "\n",
      "max_depth = 15:\n",
      "Train R-squared mean: 0.9994\n",
      "Train R-squared standard deviation: 0.0003\n",
      "Test R-squared mean: 0.7185\n",
      "Test R-squared standard deviation: 0.0794\n",
      "\n"
     ]
    }
   ],
   "source": [
    "# Decision Trees\n",
    "from sklearn.tree import DecisionTreeRegressor\n",
    "nmc = 50\n",
    "depths = [5, 10, 15]\n",
    "for d in depths:\n",
    "    tree = DecisionTreeRegressor(max_depth=d)\n",
    "    trainScore = np.zeros(nmc)\n",
    "    testScore  = np.zeros(nmc)\n",
    "    for i in range(nmc):\n",
    "        X_train, X_test, y_train, y_test = train_test_split(X,y,test_size=0.25)\n",
    "        trainFit = tree.fit(X_train,y_train)\n",
    "        trainScore[i] = trainFit.score(X_train,y_train)\n",
    "        testScore[i] =  trainFit.score(X_test,y_test)\n",
    "    print('max_depth = '+str(d)+\":\")\n",
    "    print(\"Train R-squared mean: {:.4f}\".format(np.mean(trainScore)))\n",
    "    print(\"Train R-squared standard deviation: {:.4f}\".format(np.std(trainScore)))\n",
    "    print(\"Test R-squared mean: {:.4f}\".format(np.mean(testScore)))\n",
    "    print(\"Test R-squared standard deviation: {:.4f}\".format(np.std(testScore)))\n",
    "    print(end=\"\\n\")"
   ]
  },
  {
   "cell_type": "code",
   "execution_count": 13,
   "metadata": {},
   "outputs": [
    {
     "name": "stdout",
     "output_type": "stream",
     "text": [
      "max_depth = 5:\n",
      "    max_features = 5:\n",
      "    Train R-squared mean: 0.7239\n",
      "    Test R-squared mean: 0.6711\n",
      "    max_features = 10:\n",
      "    Train R-squared mean: 0.8183\n",
      "    Test R-squared mean: 0.7462\n",
      "    max_features = 25:\n",
      "    Train R-squared mean: 0.8799\n",
      "    Test R-squared mean: 0.7969\n",
      "    max_features = 50:\n",
      "    Train R-squared mean: 0.9030\n",
      "    Test R-squared mean: 0.8132\n",
      "max_depth = 10:\n",
      "    max_features = 5:\n",
      "    Train R-squared mean: 0.9136\n",
      "    Test R-squared mean: 0.7782\n",
      "    max_features = 10:\n",
      "    Train R-squared mean: 0.9497\n",
      "    Test R-squared mean: 0.8243\n",
      "    max_features = 25:\n",
      "    Train R-squared mean: 0.9677\n",
      "    Test R-squared mean: 0.8525\n",
      "    max_features = 50:\n",
      "    Train R-squared mean: 0.9729\n",
      "    Test R-squared mean: 0.8572\n",
      "max_depth = 15:\n",
      "    max_features = 5:\n",
      "    Train R-squared mean: 0.9626\n",
      "    Test R-squared mean: 0.8050\n",
      "    max_features = 10:\n",
      "    Train R-squared mean: 0.9732\n",
      "    Test R-squared mean: 0.8311\n",
      "    max_features = 25:\n",
      "    Train R-squared mean: 0.9781\n",
      "    Test R-squared mean: 0.8493\n",
      "    max_features = 50:\n",
      "    Train R-squared mean: 0.9793\n",
      "    Test R-squared mean: 0.8628\n"
     ]
    }
   ],
   "source": [
    "# random forest\n",
    "from sklearn.ensemble import RandomForestRegressor    \n",
    "doForest = True\n",
    "if (doForest)  :\n",
    "    nmc = 50\n",
    "    depths = [5, 10, 15]\n",
    "    ntree = 100\n",
    "    for d in depths:\n",
    "        print('max_depth = '+str(d)+\":\")\n",
    "        \n",
    "        features = [5, 10, 25, 50]\n",
    "        for f in features:\n",
    "            forest = RandomForestRegressor(max_depth=d, n_estimators=ntree, max_features=f)\n",
    "            trainScore = np.zeros(nmc)\n",
    "            testScore  = np.zeros(nmc)\n",
    "        \n",
    "            for i in range(nmc):\n",
    "                X_train, X_test, y_train, y_test = train_test_split(X,y,test_size=0.25)\n",
    "                trainFit = forest.fit(X_train,y_train)\n",
    "                trainScore[i] = trainFit.score(X_train,y_train)\n",
    "                testScore[i] =  trainFit.score(X_test,y_test)\n",
    "                \n",
    "            print('    max_features = '+str(f)+\":\")\n",
    "            print('    Train R-squared mean: {:.4f}'.format(np.mean(trainScore)))\n",
    "            # print(\"Train R-squared standard deviation: {:.4f}\".format(np.std(trainScore)))\n",
    "            print('    Test R-squared mean: {:.4f}'.format(np.mean(testScore)))\n",
    "            # print(\"Test R-squared standard deviation: {:.4f}\".format(np.std(testScore)))"
   ]
  },
  {
   "cell_type": "code",
   "execution_count": null,
   "metadata": {},
   "outputs": [],
   "source": []
  }
 ],
 "metadata": {
  "kernelspec": {
   "display_name": "Python 3",
   "language": "python",
   "name": "python3"
  },
  "language_info": {
   "codemirror_mode": {
    "name": "ipython",
    "version": 3
   },
   "file_extension": ".py",
   "mimetype": "text/x-python",
   "name": "python",
   "nbconvert_exporter": "python",
   "pygments_lexer": "ipython3",
   "version": "3.7.6"
  }
 },
 "nbformat": 4,
 "nbformat_minor": 2
}
